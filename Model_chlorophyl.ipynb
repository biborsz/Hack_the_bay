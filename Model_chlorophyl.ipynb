{
 "cells": [
  {
   "cell_type": "code",
   "execution_count": 1,
   "metadata": {},
   "outputs": [],
   "source": [
    "import pandas as pd\n",
    "import numpy as np\n",
    "\n",
    "import matplotlib.pyplot as plt\n",
    "import seaborn as sns\n",
    "import datetime as dt"
   ]
  },
  {
   "cell_type": "code",
   "execution_count": 58,
   "metadata": {},
   "outputs": [],
   "source": [
    "from sklearn.model_selection import train_test_split, cross_val_score, GridSearchCV\n",
    "from sklearn.ensemble import RandomForestRegressor\n",
    "from sklearn.metrics import confusion_matrix"
   ]
  },
  {
   "cell_type": "code",
   "execution_count": 3,
   "metadata": {},
   "outputs": [],
   "source": [
    "np.random.seed(20200908)"
   ]
  },
  {
   "cell_type": "code",
   "execution_count": 148,
   "metadata": {},
   "outputs": [],
   "source": [
    "water = pd.read_csv('./data/Potomac_transformed.csv')"
   ]
  },
  {
   "cell_type": "markdown",
   "metadata": {},
   "source": [
    "**Keep only consecutive days in the dataframe**"
   ]
  },
  {
   "cell_type": "code",
   "execution_count": 149,
   "metadata": {},
   "outputs": [],
   "source": [
    "# transform Date_Time into datetime object\n",
    "water['Date_Time'] = pd.to_datetime(water['Date_Time'])\n",
    "\n",
    "# source: https://www.dataquest.io/blog/python-datetime-tutorial/"
   ]
  },
  {
   "cell_type": "code",
   "execution_count": 150,
   "metadata": {},
   "outputs": [],
   "source": [
    "# sort data by Date_Time column\n",
    "water.sort_values(by=['Date_Time'], inplace=True)"
   ]
  },
  {
   "cell_type": "code",
   "execution_count": 151,
   "metadata": {},
   "outputs": [],
   "source": [
    "def difference(column):\n",
    "    differences = []\n",
    "    for i in range(1, column.shape[0]):\n",
    "        timediff = column[i] - column[i - 1]\n",
    "        differences.append(timediff)\n",
    "    return pd.Series(differences)\n",
    "\n",
    "# source: https://machinelearningmastery.com/difference-time-series-dataset-python/"
   ]
  },
  {
   "cell_type": "code",
   "execution_count": 152,
   "metadata": {},
   "outputs": [],
   "source": [
    "# create new column with differenced Date_Time\n",
    "water['TimeDiff'] = difference(water['Date_Time'])"
   ]
  },
  {
   "cell_type": "code",
   "execution_count": 153,
   "metadata": {},
   "outputs": [
    {
     "data": {
      "text/plain": [
       "count                     29773\n",
       "mean     0 days 04:15:16.807174\n",
       "std      1 days 02:02:17.224628\n",
       "min             0 days 00:00:00\n",
       "25%             0 days 00:00:00\n",
       "50%             0 days 00:00:00\n",
       "75%             0 days 00:00:00\n",
       "max            27 days 03:27:00\n",
       "Name: TimeDiff, dtype: object"
      ]
     },
     "execution_count": 153,
     "metadata": {},
     "output_type": "execute_result"
    }
   ],
   "source": [
    "water['TimeDiff'].describe()"
   ]
  },
  {
   "cell_type": "code",
   "execution_count": 154,
   "metadata": {},
   "outputs": [
    {
     "data": {
      "text/plain": [
       "1"
      ]
     },
     "execution_count": 154,
     "metadata": {},
     "output_type": "execute_result"
    }
   ],
   "source": [
    "water['TimeDiff'].isna().sum()"
   ]
  },
  {
   "cell_type": "code",
   "execution_count": 155,
   "metadata": {},
   "outputs": [],
   "source": [
    "# keep only consecutive days\n",
    "consec = water.loc[water['TimeDiff'].dt.days < 2]"
   ]
  },
  {
   "cell_type": "code",
   "execution_count": 156,
   "metadata": {},
   "outputs": [
    {
     "data": {
      "text/plain": [
       "(29063, 48)"
      ]
     },
     "execution_count": 156,
     "metadata": {},
     "output_type": "execute_result"
    }
   ],
   "source": [
    "consec.shape"
   ]
  },
  {
   "cell_type": "code",
   "execution_count": 157,
   "metadata": {},
   "outputs": [
    {
     "data": {
      "text/plain": [
       "count                     29063\n",
       "mean     0 days 00:47:35.100299\n",
       "std      0 days 04:10:44.732928\n",
       "min             0 days 00:00:00\n",
       "25%             0 days 00:00:00\n",
       "50%             0 days 00:00:00\n",
       "75%             0 days 00:00:00\n",
       "max             1 days 23:50:00\n",
       "Name: TimeDiff, dtype: object"
      ]
     },
     "execution_count": 157,
     "metadata": {},
     "output_type": "execute_result"
    }
   ],
   "source": [
    "consec['TimeDiff'].describe()"
   ]
  },
  {
   "cell_type": "code",
   "execution_count": 158,
   "metadata": {},
   "outputs": [
    {
     "data": {
      "text/plain": [
       "Index(['Date_Time', 'SampleId', 'SampleDepth', 'Agency', 'Cruise', 'Database',\n",
       "       'HUC12', 'Latitude', 'Layer', 'Longitude', 'Method', 'Program',\n",
       "       'Project', 'SampleReplicateType', 'SampleType', 'Source', 'Station',\n",
       "       'TierLevel', 'Unit', 'Point', 'HUC12_', 'HUCNAME_', 'FIPS_', 'COUNTY_',\n",
       "       'STATE_', 'TotalDepth', 'Parameter_CHLA', 'Parameter_DO',\n",
       "       'Parameter_NH4F', 'Parameter_NO3F', 'Parameter_PH', 'Parameter_PO4F',\n",
       "       'Parameter_SALINITY', 'Parameter_SECCHI', 'Parameter_TALK',\n",
       "       'Parameter_TDS', 'Parameter_TKNW', 'Parameter_TN', 'Parameter_TP',\n",
       "       'Parameter_TSS', 'Parameter_TURB_NTU', 'Parameter_WTEMP',\n",
       "       'tide_Flood Tide', 'tide_High Slack Tide', 'tide_Low Slack Tide',\n",
       "       'Years', 'Months', 'TimeDiff'],\n",
       "      dtype='object')"
      ]
     },
     "execution_count": 158,
     "metadata": {},
     "output_type": "execute_result"
    }
   ],
   "source": [
    "consec.columns"
   ]
  },
  {
   "cell_type": "code",
   "execution_count": 159,
   "metadata": {},
   "outputs": [],
   "source": [
    "# columns to drop\n",
    "col_to_drop = ['Agency', 'Cruise', 'Database', 'HUC12', 'Latitude', 'Layer', 'Longitude', 'Method', 'Program', 'Project', \n",
    "               'SampleReplicateType', 'SampleType', 'Source', 'Station', 'TierLevel', 'Unit', 'Point', 'FIPS_', 'COUNTY_', 'STATE_',\n",
    "               'HUCNAME_']"
   ]
  },
  {
   "cell_type": "code",
   "execution_count": 160,
   "metadata": {},
   "outputs": [],
   "source": [
    "consec = consec.drop(columns=col_to_drop)"
   ]
  },
  {
   "cell_type": "code",
   "execution_count": 206,
   "metadata": {},
   "outputs": [
    {
     "data": {
      "text/plain": [
       "SampleDepth\n",
       "0.000      1.498017\n",
       "0.080      0.000000\n",
       "0.090      0.000000\n",
       "0.098      0.800000\n",
       "0.100      3.358993\n",
       "            ...    \n",
       "19.400     3.920000\n",
       "19.500     5.383333\n",
       "19.600     8.540000\n",
       "19.700     2.140000\n",
       "20.000    13.146810\n",
       "Name: Parameter_CHLA, Length: 363, dtype: float64"
      ]
     },
     "execution_count": 206,
     "metadata": {},
     "output_type": "execute_result"
    }
   ],
   "source": [
    "# check sample depth vs chlorophyll\n",
    "consec.groupby(by='SampleDepth')['Parameter_CHLA'].mean()"
   ]
  },
  {
   "cell_type": "code",
   "execution_count": 207,
   "metadata": {},
   "outputs": [
    {
     "data": {
      "text/plain": [
       "SampleDepth\n",
       "0.000     0.030851\n",
       "0.080     0.000000\n",
       "0.090     0.000000\n",
       "0.098     0.000000\n",
       "0.100     0.000419\n",
       "            ...   \n",
       "19.400    0.140700\n",
       "19.500    0.146100\n",
       "19.600    0.060800\n",
       "19.700    0.034100\n",
       "20.000    0.032557\n",
       "Name: Parameter_TP, Length: 363, dtype: float64"
      ]
     },
     "execution_count": 207,
     "metadata": {},
     "output_type": "execute_result"
    }
   ],
   "source": [
    "# check sample depth vs. total phosphorus\n",
    "consec.groupby(by='SampleDepth')['Parameter_TP'].mean()"
   ]
  },
  {
   "cell_type": "code",
   "execution_count": 315,
   "metadata": {},
   "outputs": [],
   "source": [
    "# group data by sample id and get mean\n",
    "\n",
    "data = consec.groupby(by='SampleId').agg('mean').copy()"
   ]
  },
  {
   "cell_type": "code",
   "execution_count": 316,
   "metadata": {},
   "outputs": [
    {
     "data": {
      "text/plain": [
       "0"
      ]
     },
     "execution_count": 316,
     "metadata": {},
     "output_type": "execute_result"
    }
   ],
   "source": [
    "data.isnull().sum().sum()"
   ]
  },
  {
   "cell_type": "code",
   "execution_count": 317,
   "metadata": {},
   "outputs": [
    {
     "data": {
      "text/plain": [
       "(7082, 24)"
      ]
     },
     "execution_count": 317,
     "metadata": {},
     "output_type": "execute_result"
    }
   ],
   "source": [
    "data.shape"
   ]
  },
  {
   "cell_type": "code",
   "execution_count": 318,
   "metadata": {},
   "outputs": [],
   "source": [
    "# reset index \n",
    "data.reset_index(inplace=True)"
   ]
  },
  {
   "cell_type": "code",
   "execution_count": 319,
   "metadata": {},
   "outputs": [
    {
     "data": {
      "text/plain": [
       "Index(['SampleId', 'SampleDepth', 'HUC12_', 'TotalDepth', 'Parameter_CHLA',\n",
       "       'Parameter_DO', 'Parameter_NH4F', 'Parameter_NO3F', 'Parameter_PH',\n",
       "       'Parameter_PO4F', 'Parameter_SALINITY', 'Parameter_SECCHI',\n",
       "       'Parameter_TALK', 'Parameter_TDS', 'Parameter_TKNW', 'Parameter_TN',\n",
       "       'Parameter_TP', 'Parameter_TSS', 'Parameter_TURB_NTU',\n",
       "       'Parameter_WTEMP', 'tide_Flood Tide', 'tide_High Slack Tide',\n",
       "       'tide_Low Slack Tide', 'Years', 'Months'],\n",
       "      dtype='object')"
      ]
     },
     "execution_count": 319,
     "metadata": {},
     "output_type": "execute_result"
    }
   ],
   "source": [
    "data.columns"
   ]
  },
  {
   "cell_type": "code",
   "execution_count": 320,
   "metadata": {},
   "outputs": [],
   "source": [
    "# shift Parameter_CHLA by 1 day compared to everything else\n",
    "data['Parameter_CHLA'] = data['Parameter_CHLA'].shift(periods=-1)"
   ]
  },
  {
   "cell_type": "code",
   "execution_count": 321,
   "metadata": {},
   "outputs": [
    {
     "data": {
      "text/plain": [
       "7072    26.800000\n",
       "7073     0.000000\n",
       "7074     1.500000\n",
       "7075     0.000000\n",
       "7076     0.100000\n",
       "7077     0.000000\n",
       "7078     3.360000\n",
       "7079     0.997000\n",
       "7080     4.663667\n",
       "7081          NaN\n",
       "Name: Parameter_CHLA, dtype: float64"
      ]
     },
     "execution_count": 321,
     "metadata": {},
     "output_type": "execute_result"
    }
   ],
   "source": [
    "data['Parameter_CHLA'].tail(10)"
   ]
  },
  {
   "cell_type": "code",
   "execution_count": 322,
   "metadata": {},
   "outputs": [],
   "source": [
    "# drop first row - where Parameter_CHLA became NaN\n",
    "data.dropna(inplace=True)"
   ]
  },
  {
   "cell_type": "markdown",
   "metadata": {},
   "source": [
    "**Model**<br>\n",
    "**Predicting Chlorophyll level one day after other parameter values were measured**"
   ]
  },
  {
   "cell_type": "code",
   "execution_count": 323,
   "metadata": {},
   "outputs": [],
   "source": [
    "# train_test_split\n",
    "# training data = up until last two years\n",
    "# testing data = last two years (2018-2019)\n",
    "\n",
    "train = data.loc[data['Years'] < 2018]\n",
    "test = data.loc[data['Years'] >= 2018]"
   ]
  },
  {
   "cell_type": "code",
   "execution_count": 324,
   "metadata": {},
   "outputs": [
    {
     "data": {
      "text/plain": [
       "(6468, 25)"
      ]
     },
     "execution_count": 324,
     "metadata": {},
     "output_type": "execute_result"
    }
   ],
   "source": [
    "train.shape"
   ]
  },
  {
   "cell_type": "code",
   "execution_count": 325,
   "metadata": {},
   "outputs": [
    {
     "data": {
      "text/plain": [
       "(613, 25)"
      ]
     },
     "execution_count": 325,
     "metadata": {},
     "output_type": "execute_result"
    }
   ],
   "source": [
    "test.shape"
   ]
  },
  {
   "cell_type": "code",
   "execution_count": 326,
   "metadata": {},
   "outputs": [],
   "source": [
    "\n",
    "X_train = train.drop(columns=['SampleId', 'SampleDepth', 'TotalDepth', 'Parameter_CHLA'])\n",
    "y_train = train['Parameter_CHLA']\n",
    "\n",
    "X_test = test.drop(columns=['SampleId', 'SampleDepth', 'TotalDepth', 'Parameter_CHLA'])\n",
    "y_test = test['Parameter_CHLA']"
   ]
  },
  {
   "cell_type": "code",
   "execution_count": 327,
   "metadata": {},
   "outputs": [],
   "source": [
    "# instantiate random forest classifier\n",
    "rf = RandomForestRegressor()"
   ]
  },
  {
   "cell_type": "code",
   "execution_count": 328,
   "metadata": {},
   "outputs": [],
   "source": [
    "# parameters for grid search\n",
    "params = {\n",
    "    'n_estimators'      : [100, 200, 300],\n",
    "    'min_samples_split' : [20],\n",
    "    'max_depth'         : [5]\n",
    "}"
   ]
  },
  {
   "cell_type": "code",
   "execution_count": 329,
   "metadata": {},
   "outputs": [],
   "source": [
    "# Set up grid search\n",
    "gs = GridSearchCV(rf, \n",
    "                  param_grid=params, \n",
    "                  return_train_score=True, \n",
    "                  cv = 5)"
   ]
  },
  {
   "cell_type": "code",
   "execution_count": 330,
   "metadata": {},
   "outputs": [
    {
     "name": "stdout",
     "output_type": "stream",
     "text": [
      "58.695672035217285\n"
     ]
    }
   ],
   "source": [
    "# Run grid search on training data with a time check. \n",
    "import time\n",
    "t0 = time.time()\n",
    "gs.fit(X_train, y_train)\n",
    "print(time.time() - t0)"
   ]
  },
  {
   "cell_type": "markdown",
   "metadata": {},
   "source": [
    "**Evaluation**"
   ]
  },
  {
   "cell_type": "code",
   "execution_count": 331,
   "metadata": {},
   "outputs": [
    {
     "data": {
      "text/plain": [
       "0.3197732237005665"
      ]
     },
     "execution_count": 331,
     "metadata": {},
     "output_type": "execute_result"
    }
   ],
   "source": [
    "# Score on training set.\n",
    "r2_train = gs.score(X_train, y_train)\n",
    "r2_train"
   ]
  },
  {
   "cell_type": "code",
   "execution_count": 332,
   "metadata": {},
   "outputs": [
    {
     "data": {
      "text/plain": [
       "-0.017203156284911092"
      ]
     },
     "execution_count": 332,
     "metadata": {},
     "output_type": "execute_result"
    }
   ],
   "source": [
    "# Score on testing set.\n",
    "r2_test = gs.score(X_test, y_test)\n",
    "r2_test"
   ]
  },
  {
   "cell_type": "code",
   "execution_count": 333,
   "metadata": {},
   "outputs": [
    {
     "data": {
      "text/plain": [
       "{'max_depth': 5, 'min_samples_split': 20, 'n_estimators': 300}"
      ]
     },
     "execution_count": 333,
     "metadata": {},
     "output_type": "execute_result"
    }
   ],
   "source": [
    "# List best hyperparameters found in Grid Search\n",
    "gs.best_params_"
   ]
  },
  {
   "cell_type": "code",
   "execution_count": 334,
   "metadata": {},
   "outputs": [
    {
     "data": {
      "text/plain": [
       "-0.15520158260432632"
      ]
     },
     "execution_count": 334,
     "metadata": {},
     "output_type": "execute_result"
    }
   ],
   "source": [
    "# 5-fold cross validation score.\n",
    "gs.best_score_"
   ]
  },
  {
   "cell_type": "markdown",
   "metadata": {},
   "source": [
    "Predicting chlorophyll levels 1 day later than measuring all other feature parameters:<br>\n",
    "Train_R2: 0.3 <br>\n",
    "Test_R2: -0.015 <br>\n",
    "Cross_validated_R2: -0.14 <br>\n",
    "<br>\n",
    "Predicting chlorophyll levels 3 day later than measuring all other feature parameters:<br>\n",
    "Train_R2: 0.2 <br>\n",
    "Test_R2: -0.05 <br>\n",
    "Cross_validated_R2: -0.17 <br>\n",
    "<br>\n",
    "Predicting chlorophyll levels 7 day later than measuring all other feature parameters:<br>\n",
    "Train_R2: 0.27<br>\n",
    "Test_R2: 0.044<br>\n",
    "Cross_validated_R2: -0.14<br>"
   ]
  },
  {
   "cell_type": "code",
   "execution_count": null,
   "metadata": {},
   "outputs": [],
   "source": []
  }
 ],
 "metadata": {
  "kernelspec": {
   "display_name": "Python 3",
   "language": "python",
   "name": "python3"
  },
  "language_info": {
   "codemirror_mode": {
    "name": "ipython",
    "version": 3
   },
   "file_extension": ".py",
   "mimetype": "text/x-python",
   "name": "python",
   "nbconvert_exporter": "python",
   "pygments_lexer": "ipython3",
   "version": "3.7.6"
  }
 },
 "nbformat": 4,
 "nbformat_minor": 4
}
