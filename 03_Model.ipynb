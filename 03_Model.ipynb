{
 "cells": [
  {
   "cell_type": "markdown",
   "metadata": {},
   "source": [
    "### Modeling Water Quality of the Potomac River\n",
    "#### Predicting Total Phosphorus Levels "
   ]
  },
  {
   "cell_type": "markdown",
   "metadata": {},
   "source": [
    "**Imports**"
   ]
  },
  {
   "cell_type": "code",
   "execution_count": 1,
   "metadata": {},
   "outputs": [],
   "source": [
    "import pandas as pd\n",
    "import numpy as np\n",
    "import sys\n",
    "import matplotlib.pyplot as plt\n",
    "import seaborn as sns\n",
    "\n",
    "# code modified from Mike Blow's RandomForestRegressor model"
   ]
  },
  {
   "cell_type": "code",
   "execution_count": 2,
   "metadata": {},
   "outputs": [],
   "source": [
    "from sklearn.model_selection import train_test_split, cross_val_score, GridSearchCV\n",
    "from sklearn.ensemble import RandomForestClassifier\n",
    "from sklearn.metrics import confusion_matrix"
   ]
  },
  {
   "cell_type": "code",
   "execution_count": 3,
   "metadata": {},
   "outputs": [],
   "source": [
    "np.random.seed(20200908)"
   ]
  },
  {
   "cell_type": "code",
   "execution_count": 44,
   "metadata": {},
   "outputs": [],
   "source": [
    "water = pd.read_csv('./data/WQ_FINAL_with_Parameters.csv')"
   ]
  },
  {
   "cell_type": "code",
   "execution_count": 45,
   "metadata": {},
   "outputs": [],
   "source": [
    "cols = water.columns\n",
    "params = [col for col in cols if 'Parameter' in col]"
   ]
  },
  {
   "cell_type": "markdown",
   "metadata": {},
   "source": [
    "**Transform Variables**"
   ]
  },
  {
   "cell_type": "markdown",
   "metadata": {},
   "source": [
    "A decision tree based model can handle cathegorical variables without turning them into binary variables ==> we do not turn HUC12_ and SampleId into dummies."
   ]
  },
  {
   "cell_type": "code",
   "execution_count": 6,
   "metadata": {},
   "outputs": [],
   "source": [
    "# create dummy variables for HUC12_\n",
    "# water = pd.get_dummies(water, columns=['HUC12_'], prefix='huc12', drop_first=True)"
   ]
  },
  {
   "cell_type": "code",
   "execution_count": 46,
   "metadata": {},
   "outputs": [],
   "source": [
    "# create dummy variables for TideStage\n",
    "water = pd.get_dummies(water, columns=['TideStage'], prefix='tide', drop_first=True)"
   ]
  },
  {
   "cell_type": "code",
   "execution_count": 8,
   "metadata": {},
   "outputs": [],
   "source": [
    "# create dummy variables for SampleId\n",
    "# water = pd.get_dummies(water, columns=['SampleId'], prefix='sample')"
   ]
  },
  {
   "cell_type": "code",
   "execution_count": 47,
   "metadata": {},
   "outputs": [],
   "source": [
    "# transform Date_Time into datetime object\n",
    "water['Date_Time'] = pd.to_datetime(water['Date_Time'])"
   ]
  },
  {
   "cell_type": "code",
   "execution_count": 48,
   "metadata": {},
   "outputs": [],
   "source": [
    "# create variables for year and for month\n",
    "water['Years'] = water['Date_Time'].dt.year\n",
    "water['Months'] = water['Date_Time'].dt.month"
   ]
  },
  {
   "cell_type": "code",
   "execution_count": 49,
   "metadata": {},
   "outputs": [],
   "source": [
    "# export transformed dataframe\n",
    "# water.to_csv('./data/Potomac_transformed.csv', index=False)"
   ]
  },
  {
   "cell_type": "markdown",
   "metadata": {},
   "source": [
    "**Correlation Matrix**"
   ]
  },
  {
   "cell_type": "code",
   "execution_count": 10,
   "metadata": {},
   "outputs": [
    {
     "data": {
      "text/plain": [
       "Index(['Date_Time', 'SampleId', 'SampleDepth', 'Agency', 'Cruise', 'Database',\n",
       "       'HUC12', 'Latitude', 'Layer', 'Longitude', 'Method', 'Program',\n",
       "       'Project', 'SampleReplicateType', 'SampleType', 'Source', 'Station',\n",
       "       'TierLevel', 'Unit', 'Point', 'HUC12_', 'HUCNAME_', 'FIPS_', 'COUNTY_',\n",
       "       'STATE_', 'TotalDepth', 'Parameter_CHLA', 'Parameter_DO',\n",
       "       'Parameter_NH4F', 'Parameter_NO3F', 'Parameter_PH', 'Parameter_PO4F',\n",
       "       'Parameter_SALINITY', 'Parameter_SECCHI', 'Parameter_TALK',\n",
       "       'Parameter_TDS', 'Parameter_TKNW', 'Parameter_TN', 'Parameter_TP',\n",
       "       'Parameter_TSS', 'Parameter_TURB_NTU', 'Parameter_WTEMP',\n",
       "       'tide_Flood Tide', 'tide_High Slack Tide', 'tide_Low Slack Tide',\n",
       "       'Years', 'Months'],\n",
       "      dtype='object')"
      ]
     },
     "execution_count": 10,
     "metadata": {},
     "output_type": "execute_result"
    }
   ],
   "source": [
    "water.columns"
   ]
  },
  {
   "cell_type": "code",
   "execution_count": 13,
   "metadata": {},
   "outputs": [],
   "source": [
    "# cols = water.columns\n",
    "# sample_variables = [col for col in cols if 'sample' in col]"
   ]
  },
  {
   "cell_type": "code",
   "execution_count": 14,
   "metadata": {},
   "outputs": [],
   "source": [
    "# huc_variables = [col for col in cols if 'huc' in col]"
   ]
  },
  {
   "cell_type": "code",
   "execution_count": 18,
   "metadata": {},
   "outputs": [],
   "source": [
    "# variables to correlate with Parameter_TP\n",
    "\n",
    "water_corr = water.drop(columns=['SampleId', 'Date_Time', 'Agency', 'Cruise', 'Database', 'HUC12',\n",
    "             'Latitude', 'Layer', 'Longitude', 'Method',\n",
    "             'Program', 'Project', 'SampleReplicateType', 'SampleType',\n",
    "             'Source', 'Station', 'TierLevel', 'Unit', 'Point',\n",
    "             'HUCNAME_', 'FIPS_', 'COUNTY_', 'STATE_', 'TotalDepth'\n",
    "            ])"
   ]
  },
  {
   "cell_type": "code",
   "execution_count": 19,
   "metadata": {},
   "outputs": [],
   "source": [
    "# water_corr = water_corr.drop(columns=sample_variables)"
   ]
  },
  {
   "cell_type": "code",
   "execution_count": 17,
   "metadata": {},
   "outputs": [],
   "source": [
    "# water_corr.drop(columns=huc_variables, inplace=True)"
   ]
  },
  {
   "cell_type": "code",
   "execution_count": 20,
   "metadata": {},
   "outputs": [
    {
     "data": {
      "text/plain": [
       "(29774, 23)"
      ]
     },
     "execution_count": 20,
     "metadata": {},
     "output_type": "execute_result"
    }
   ],
   "source": [
    "water_corr.shape"
   ]
  },
  {
   "cell_type": "code",
   "execution_count": 21,
   "metadata": {},
   "outputs": [
    {
     "data": {
      "text/html": [
       "<div>\n",
       "<style scoped>\n",
       "    .dataframe tbody tr th:only-of-type {\n",
       "        vertical-align: middle;\n",
       "    }\n",
       "\n",
       "    .dataframe tbody tr th {\n",
       "        vertical-align: top;\n",
       "    }\n",
       "\n",
       "    .dataframe thead th {\n",
       "        text-align: right;\n",
       "    }\n",
       "</style>\n",
       "<table border=\"1\" class=\"dataframe\">\n",
       "  <thead>\n",
       "    <tr style=\"text-align: right;\">\n",
       "      <th></th>\n",
       "      <th>SampleDepth</th>\n",
       "      <th>HUC12_</th>\n",
       "      <th>Parameter_CHLA</th>\n",
       "      <th>Parameter_DO</th>\n",
       "      <th>Parameter_NH4F</th>\n",
       "      <th>Parameter_NO3F</th>\n",
       "      <th>Parameter_PH</th>\n",
       "      <th>Parameter_PO4F</th>\n",
       "      <th>Parameter_SALINITY</th>\n",
       "      <th>Parameter_SECCHI</th>\n",
       "      <th>...</th>\n",
       "      <th>Parameter_TN</th>\n",
       "      <th>Parameter_TP</th>\n",
       "      <th>Parameter_TSS</th>\n",
       "      <th>Parameter_TURB_NTU</th>\n",
       "      <th>Parameter_WTEMP</th>\n",
       "      <th>tide_Flood Tide</th>\n",
       "      <th>tide_High Slack Tide</th>\n",
       "      <th>tide_Low Slack Tide</th>\n",
       "      <th>Years</th>\n",
       "      <th>Months</th>\n",
       "    </tr>\n",
       "  </thead>\n",
       "  <tbody>\n",
       "    <tr>\n",
       "      <th>SampleDepth</th>\n",
       "      <td>1.000000</td>\n",
       "      <td>0.298364</td>\n",
       "      <td>-0.051237</td>\n",
       "      <td>-0.246909</td>\n",
       "      <td>0.010671</td>\n",
       "      <td>-0.139905</td>\n",
       "      <td>0.047496</td>\n",
       "      <td>-0.031205</td>\n",
       "      <td>0.412746</td>\n",
       "      <td>-0.289386</td>\n",
       "      <td>...</td>\n",
       "      <td>-0.095798</td>\n",
       "      <td>0.013467</td>\n",
       "      <td>0.020906</td>\n",
       "      <td>0.009164</td>\n",
       "      <td>-0.002560</td>\n",
       "      <td>-0.126211</td>\n",
       "      <td>-0.011693</td>\n",
       "      <td>-0.035440</td>\n",
       "      <td>0.088154</td>\n",
       "      <td>-0.021554</td>\n",
       "    </tr>\n",
       "    <tr>\n",
       "      <th>HUC12_</th>\n",
       "      <td>0.298364</td>\n",
       "      <td>1.000000</td>\n",
       "      <td>0.056390</td>\n",
       "      <td>-0.234133</td>\n",
       "      <td>-0.147033</td>\n",
       "      <td>-0.386257</td>\n",
       "      <td>-0.018793</td>\n",
       "      <td>-0.141175</td>\n",
       "      <td>0.414872</td>\n",
       "      <td>0.077783</td>\n",
       "      <td>...</td>\n",
       "      <td>-0.286870</td>\n",
       "      <td>-0.107803</td>\n",
       "      <td>-0.084925</td>\n",
       "      <td>-0.059218</td>\n",
       "      <td>0.150584</td>\n",
       "      <td>-0.318314</td>\n",
       "      <td>0.040491</td>\n",
       "      <td>0.040664</td>\n",
       "      <td>-0.149033</td>\n",
       "      <td>0.018919</td>\n",
       "    </tr>\n",
       "    <tr>\n",
       "      <th>Parameter_CHLA</th>\n",
       "      <td>-0.051237</td>\n",
       "      <td>0.056390</td>\n",
       "      <td>1.000000</td>\n",
       "      <td>0.060347</td>\n",
       "      <td>0.086285</td>\n",
       "      <td>0.105260</td>\n",
       "      <td>0.018954</td>\n",
       "      <td>0.123710</td>\n",
       "      <td>-0.093204</td>\n",
       "      <td>0.155105</td>\n",
       "      <td>...</td>\n",
       "      <td>0.296343</td>\n",
       "      <td>0.312077</td>\n",
       "      <td>0.192736</td>\n",
       "      <td>0.137265</td>\n",
       "      <td>0.052292</td>\n",
       "      <td>-0.035137</td>\n",
       "      <td>0.041375</td>\n",
       "      <td>0.010280</td>\n",
       "      <td>0.018863</td>\n",
       "      <td>-0.051131</td>\n",
       "    </tr>\n",
       "    <tr>\n",
       "      <th>Parameter_DO</th>\n",
       "      <td>-0.246909</td>\n",
       "      <td>-0.234133</td>\n",
       "      <td>0.060347</td>\n",
       "      <td>1.000000</td>\n",
       "      <td>0.016819</td>\n",
       "      <td>0.296525</td>\n",
       "      <td>0.349397</td>\n",
       "      <td>-0.025177</td>\n",
       "      <td>-0.249128</td>\n",
       "      <td>0.014052</td>\n",
       "      <td>...</td>\n",
       "      <td>0.242648</td>\n",
       "      <td>0.076246</td>\n",
       "      <td>0.089224</td>\n",
       "      <td>0.095288</td>\n",
       "      <td>-0.561552</td>\n",
       "      <td>0.071635</td>\n",
       "      <td>0.011070</td>\n",
       "      <td>0.031532</td>\n",
       "      <td>0.182693</td>\n",
       "      <td>-0.299963</td>\n",
       "    </tr>\n",
       "    <tr>\n",
       "      <th>Parameter_NH4F</th>\n",
       "      <td>0.010671</td>\n",
       "      <td>-0.147033</td>\n",
       "      <td>0.086285</td>\n",
       "      <td>0.016819</td>\n",
       "      <td>1.000000</td>\n",
       "      <td>0.388296</td>\n",
       "      <td>-0.013437</td>\n",
       "      <td>0.370214</td>\n",
       "      <td>-0.159301</td>\n",
       "      <td>0.099321</td>\n",
       "      <td>...</td>\n",
       "      <td>0.487142</td>\n",
       "      <td>0.354084</td>\n",
       "      <td>0.211213</td>\n",
       "      <td>0.223065</td>\n",
       "      <td>-0.070302</td>\n",
       "      <td>0.036930</td>\n",
       "      <td>-0.012965</td>\n",
       "      <td>-0.011521</td>\n",
       "      <td>-0.008756</td>\n",
       "      <td>-0.047727</td>\n",
       "    </tr>\n",
       "    <tr>\n",
       "      <th>Parameter_NO3F</th>\n",
       "      <td>-0.139905</td>\n",
       "      <td>-0.386257</td>\n",
       "      <td>0.105260</td>\n",
       "      <td>0.296525</td>\n",
       "      <td>0.388296</td>\n",
       "      <td>1.000000</td>\n",
       "      <td>-0.002388</td>\n",
       "      <td>0.451571</td>\n",
       "      <td>-0.424761</td>\n",
       "      <td>0.033627</td>\n",
       "      <td>...</td>\n",
       "      <td>0.891921</td>\n",
       "      <td>0.508278</td>\n",
       "      <td>0.317726</td>\n",
       "      <td>0.306944</td>\n",
       "      <td>-0.257763</td>\n",
       "      <td>0.182901</td>\n",
       "      <td>-0.074527</td>\n",
       "      <td>-0.046551</td>\n",
       "      <td>0.156672</td>\n",
       "      <td>-0.133189</td>\n",
       "    </tr>\n",
       "    <tr>\n",
       "      <th>Parameter_PH</th>\n",
       "      <td>0.047496</td>\n",
       "      <td>-0.018793</td>\n",
       "      <td>0.018954</td>\n",
       "      <td>0.349397</td>\n",
       "      <td>-0.013437</td>\n",
       "      <td>-0.002388</td>\n",
       "      <td>1.000000</td>\n",
       "      <td>-0.011115</td>\n",
       "      <td>0.103022</td>\n",
       "      <td>-0.105580</td>\n",
       "      <td>...</td>\n",
       "      <td>0.009027</td>\n",
       "      <td>-0.017780</td>\n",
       "      <td>-0.011547</td>\n",
       "      <td>0.024804</td>\n",
       "      <td>0.184529</td>\n",
       "      <td>-0.013234</td>\n",
       "      <td>0.022240</td>\n",
       "      <td>0.036448</td>\n",
       "      <td>-0.001175</td>\n",
       "      <td>-0.026594</td>\n",
       "    </tr>\n",
       "    <tr>\n",
       "      <th>Parameter_PO4F</th>\n",
       "      <td>-0.031205</td>\n",
       "      <td>-0.141175</td>\n",
       "      <td>0.123710</td>\n",
       "      <td>-0.025177</td>\n",
       "      <td>0.370214</td>\n",
       "      <td>0.451571</td>\n",
       "      <td>-0.011115</td>\n",
       "      <td>1.000000</td>\n",
       "      <td>-0.194181</td>\n",
       "      <td>0.088213</td>\n",
       "      <td>...</td>\n",
       "      <td>0.577401</td>\n",
       "      <td>0.675833</td>\n",
       "      <td>0.287533</td>\n",
       "      <td>0.261265</td>\n",
       "      <td>0.057468</td>\n",
       "      <td>0.076268</td>\n",
       "      <td>-0.077300</td>\n",
       "      <td>-0.056797</td>\n",
       "      <td>0.028388</td>\n",
       "      <td>0.112858</td>\n",
       "    </tr>\n",
       "    <tr>\n",
       "      <th>Parameter_SALINITY</th>\n",
       "      <td>0.412746</td>\n",
       "      <td>0.414872</td>\n",
       "      <td>-0.093204</td>\n",
       "      <td>-0.249128</td>\n",
       "      <td>-0.159301</td>\n",
       "      <td>-0.424761</td>\n",
       "      <td>0.103022</td>\n",
       "      <td>-0.194181</td>\n",
       "      <td>1.000000</td>\n",
       "      <td>-0.054703</td>\n",
       "      <td>...</td>\n",
       "      <td>-0.352559</td>\n",
       "      <td>-0.214836</td>\n",
       "      <td>-0.169872</td>\n",
       "      <td>-0.214561</td>\n",
       "      <td>0.097536</td>\n",
       "      <td>-0.108372</td>\n",
       "      <td>-0.045898</td>\n",
       "      <td>-0.044655</td>\n",
       "      <td>-0.041905</td>\n",
       "      <td>0.115371</td>\n",
       "    </tr>\n",
       "    <tr>\n",
       "      <th>Parameter_SECCHI</th>\n",
       "      <td>-0.289386</td>\n",
       "      <td>0.077783</td>\n",
       "      <td>0.155105</td>\n",
       "      <td>0.014052</td>\n",
       "      <td>0.099321</td>\n",
       "      <td>0.033627</td>\n",
       "      <td>-0.105580</td>\n",
       "      <td>0.088213</td>\n",
       "      <td>-0.054703</td>\n",
       "      <td>1.000000</td>\n",
       "      <td>...</td>\n",
       "      <td>0.134846</td>\n",
       "      <td>0.097663</td>\n",
       "      <td>0.015345</td>\n",
       "      <td>0.012274</td>\n",
       "      <td>-0.013392</td>\n",
       "      <td>-0.053579</td>\n",
       "      <td>0.036573</td>\n",
       "      <td>0.077743</td>\n",
       "      <td>-0.058363</td>\n",
       "      <td>0.034233</td>\n",
       "    </tr>\n",
       "    <tr>\n",
       "      <th>Parameter_TALK</th>\n",
       "      <td>-0.159774</td>\n",
       "      <td>-0.304232</td>\n",
       "      <td>0.179365</td>\n",
       "      <td>0.159605</td>\n",
       "      <td>0.342386</td>\n",
       "      <td>0.614674</td>\n",
       "      <td>0.079137</td>\n",
       "      <td>0.477934</td>\n",
       "      <td>-0.435761</td>\n",
       "      <td>0.173335</td>\n",
       "      <td>...</td>\n",
       "      <td>0.631867</td>\n",
       "      <td>0.438933</td>\n",
       "      <td>0.264549</td>\n",
       "      <td>0.350185</td>\n",
       "      <td>-0.083110</td>\n",
       "      <td>0.144254</td>\n",
       "      <td>-0.027602</td>\n",
       "      <td>0.013230</td>\n",
       "      <td>0.103570</td>\n",
       "      <td>0.040325</td>\n",
       "    </tr>\n",
       "    <tr>\n",
       "      <th>Parameter_TDS</th>\n",
       "      <td>-0.143868</td>\n",
       "      <td>-0.528854</td>\n",
       "      <td>-0.050723</td>\n",
       "      <td>0.084387</td>\n",
       "      <td>0.201820</td>\n",
       "      <td>0.204703</td>\n",
       "      <td>-0.034944</td>\n",
       "      <td>0.069162</td>\n",
       "      <td>-0.144013</td>\n",
       "      <td>-0.051571</td>\n",
       "      <td>...</td>\n",
       "      <td>0.169236</td>\n",
       "      <td>0.045796</td>\n",
       "      <td>0.008989</td>\n",
       "      <td>0.004707</td>\n",
       "      <td>-0.068883</td>\n",
       "      <td>0.164540</td>\n",
       "      <td>-0.037437</td>\n",
       "      <td>-0.035029</td>\n",
       "      <td>-0.021346</td>\n",
       "      <td>0.012440</td>\n",
       "    </tr>\n",
       "    <tr>\n",
       "      <th>Parameter_TKNW</th>\n",
       "      <td>-0.074550</td>\n",
       "      <td>-0.007728</td>\n",
       "      <td>0.093640</td>\n",
       "      <td>0.046428</td>\n",
       "      <td>-0.009788</td>\n",
       "      <td>0.037356</td>\n",
       "      <td>-0.042348</td>\n",
       "      <td>0.031064</td>\n",
       "      <td>-0.071763</td>\n",
       "      <td>-0.022927</td>\n",
       "      <td>...</td>\n",
       "      <td>0.105286</td>\n",
       "      <td>0.172143</td>\n",
       "      <td>0.029800</td>\n",
       "      <td>0.018116</td>\n",
       "      <td>0.000740</td>\n",
       "      <td>0.025736</td>\n",
       "      <td>-0.008910</td>\n",
       "      <td>-0.003762</td>\n",
       "      <td>0.032157</td>\n",
       "      <td>-0.006070</td>\n",
       "    </tr>\n",
       "    <tr>\n",
       "      <th>Parameter_TN</th>\n",
       "      <td>-0.095798</td>\n",
       "      <td>-0.286870</td>\n",
       "      <td>0.296343</td>\n",
       "      <td>0.242648</td>\n",
       "      <td>0.487142</td>\n",
       "      <td>0.891921</td>\n",
       "      <td>0.009027</td>\n",
       "      <td>0.577401</td>\n",
       "      <td>-0.352559</td>\n",
       "      <td>0.134846</td>\n",
       "      <td>...</td>\n",
       "      <td>1.000000</td>\n",
       "      <td>0.729191</td>\n",
       "      <td>0.447844</td>\n",
       "      <td>0.402430</td>\n",
       "      <td>-0.182252</td>\n",
       "      <td>0.143757</td>\n",
       "      <td>-0.084131</td>\n",
       "      <td>-0.054545</td>\n",
       "      <td>0.129634</td>\n",
       "      <td>-0.098244</td>\n",
       "    </tr>\n",
       "    <tr>\n",
       "      <th>Parameter_TP</th>\n",
       "      <td>0.013467</td>\n",
       "      <td>-0.107803</td>\n",
       "      <td>0.312077</td>\n",
       "      <td>0.076246</td>\n",
       "      <td>0.354084</td>\n",
       "      <td>0.508278</td>\n",
       "      <td>-0.017780</td>\n",
       "      <td>0.675833</td>\n",
       "      <td>-0.214836</td>\n",
       "      <td>0.097663</td>\n",
       "      <td>...</td>\n",
       "      <td>0.729191</td>\n",
       "      <td>1.000000</td>\n",
       "      <td>0.747102</td>\n",
       "      <td>0.581035</td>\n",
       "      <td>-0.025566</td>\n",
       "      <td>0.053750</td>\n",
       "      <td>-0.073725</td>\n",
       "      <td>-0.050038</td>\n",
       "      <td>0.088251</td>\n",
       "      <td>-0.005751</td>\n",
       "    </tr>\n",
       "    <tr>\n",
       "      <th>Parameter_TSS</th>\n",
       "      <td>0.020906</td>\n",
       "      <td>-0.084925</td>\n",
       "      <td>0.192736</td>\n",
       "      <td>0.089224</td>\n",
       "      <td>0.211213</td>\n",
       "      <td>0.317726</td>\n",
       "      <td>-0.011547</td>\n",
       "      <td>0.287533</td>\n",
       "      <td>-0.169872</td>\n",
       "      <td>0.015345</td>\n",
       "      <td>...</td>\n",
       "      <td>0.447844</td>\n",
       "      <td>0.747102</td>\n",
       "      <td>1.000000</td>\n",
       "      <td>0.716192</td>\n",
       "      <td>-0.071950</td>\n",
       "      <td>0.024670</td>\n",
       "      <td>-0.036918</td>\n",
       "      <td>-0.021774</td>\n",
       "      <td>0.065879</td>\n",
       "      <td>-0.062384</td>\n",
       "    </tr>\n",
       "    <tr>\n",
       "      <th>Parameter_TURB_NTU</th>\n",
       "      <td>0.009164</td>\n",
       "      <td>-0.059218</td>\n",
       "      <td>0.137265</td>\n",
       "      <td>0.095288</td>\n",
       "      <td>0.223065</td>\n",
       "      <td>0.306944</td>\n",
       "      <td>0.024804</td>\n",
       "      <td>0.261265</td>\n",
       "      <td>-0.214561</td>\n",
       "      <td>0.012274</td>\n",
       "      <td>...</td>\n",
       "      <td>0.402430</td>\n",
       "      <td>0.581035</td>\n",
       "      <td>0.716192</td>\n",
       "      <td>1.000000</td>\n",
       "      <td>-0.079372</td>\n",
       "      <td>0.010321</td>\n",
       "      <td>-0.000405</td>\n",
       "      <td>-0.001402</td>\n",
       "      <td>0.049843</td>\n",
       "      <td>-0.051083</td>\n",
       "    </tr>\n",
       "    <tr>\n",
       "      <th>Parameter_WTEMP</th>\n",
       "      <td>-0.002560</td>\n",
       "      <td>0.150584</td>\n",
       "      <td>0.052292</td>\n",
       "      <td>-0.561552</td>\n",
       "      <td>-0.070302</td>\n",
       "      <td>-0.257763</td>\n",
       "      <td>0.184529</td>\n",
       "      <td>0.057468</td>\n",
       "      <td>0.097536</td>\n",
       "      <td>-0.013392</td>\n",
       "      <td>...</td>\n",
       "      <td>-0.182252</td>\n",
       "      <td>-0.025566</td>\n",
       "      <td>-0.071950</td>\n",
       "      <td>-0.079372</td>\n",
       "      <td>1.000000</td>\n",
       "      <td>-0.073464</td>\n",
       "      <td>0.027839</td>\n",
       "      <td>0.004381</td>\n",
       "      <td>-0.160994</td>\n",
       "      <td>0.367731</td>\n",
       "    </tr>\n",
       "    <tr>\n",
       "      <th>tide_Flood Tide</th>\n",
       "      <td>-0.126211</td>\n",
       "      <td>-0.318314</td>\n",
       "      <td>-0.035137</td>\n",
       "      <td>0.071635</td>\n",
       "      <td>0.036930</td>\n",
       "      <td>0.182901</td>\n",
       "      <td>-0.013234</td>\n",
       "      <td>0.076268</td>\n",
       "      <td>-0.108372</td>\n",
       "      <td>-0.053579</td>\n",
       "      <td>...</td>\n",
       "      <td>0.143757</td>\n",
       "      <td>0.053750</td>\n",
       "      <td>0.024670</td>\n",
       "      <td>0.010321</td>\n",
       "      <td>-0.073464</td>\n",
       "      <td>1.000000</td>\n",
       "      <td>-0.227198</td>\n",
       "      <td>-0.212587</td>\n",
       "      <td>0.019846</td>\n",
       "      <td>-0.036432</td>\n",
       "    </tr>\n",
       "    <tr>\n",
       "      <th>tide_High Slack Tide</th>\n",
       "      <td>-0.011693</td>\n",
       "      <td>0.040491</td>\n",
       "      <td>0.041375</td>\n",
       "      <td>0.011070</td>\n",
       "      <td>-0.012965</td>\n",
       "      <td>-0.074527</td>\n",
       "      <td>0.022240</td>\n",
       "      <td>-0.077300</td>\n",
       "      <td>-0.045898</td>\n",
       "      <td>0.036573</td>\n",
       "      <td>...</td>\n",
       "      <td>-0.084131</td>\n",
       "      <td>-0.073725</td>\n",
       "      <td>-0.036918</td>\n",
       "      <td>-0.000405</td>\n",
       "      <td>0.027839</td>\n",
       "      <td>-0.227198</td>\n",
       "      <td>1.000000</td>\n",
       "      <td>-0.061134</td>\n",
       "      <td>-0.036485</td>\n",
       "      <td>-0.017702</td>\n",
       "    </tr>\n",
       "    <tr>\n",
       "      <th>tide_Low Slack Tide</th>\n",
       "      <td>-0.035440</td>\n",
       "      <td>0.040664</td>\n",
       "      <td>0.010280</td>\n",
       "      <td>0.031532</td>\n",
       "      <td>-0.011521</td>\n",
       "      <td>-0.046551</td>\n",
       "      <td>0.036448</td>\n",
       "      <td>-0.056797</td>\n",
       "      <td>-0.044655</td>\n",
       "      <td>0.077743</td>\n",
       "      <td>...</td>\n",
       "      <td>-0.054545</td>\n",
       "      <td>-0.050038</td>\n",
       "      <td>-0.021774</td>\n",
       "      <td>-0.001402</td>\n",
       "      <td>0.004381</td>\n",
       "      <td>-0.212587</td>\n",
       "      <td>-0.061134</td>\n",
       "      <td>1.000000</td>\n",
       "      <td>-0.079402</td>\n",
       "      <td>0.012610</td>\n",
       "    </tr>\n",
       "    <tr>\n",
       "      <th>Years</th>\n",
       "      <td>0.088154</td>\n",
       "      <td>-0.149033</td>\n",
       "      <td>0.018863</td>\n",
       "      <td>0.182693</td>\n",
       "      <td>-0.008756</td>\n",
       "      <td>0.156672</td>\n",
       "      <td>-0.001175</td>\n",
       "      <td>0.028388</td>\n",
       "      <td>-0.041905</td>\n",
       "      <td>-0.058363</td>\n",
       "      <td>...</td>\n",
       "      <td>0.129634</td>\n",
       "      <td>0.088251</td>\n",
       "      <td>0.065879</td>\n",
       "      <td>0.049843</td>\n",
       "      <td>-0.160994</td>\n",
       "      <td>0.019846</td>\n",
       "      <td>-0.036485</td>\n",
       "      <td>-0.079402</td>\n",
       "      <td>1.000000</td>\n",
       "      <td>-0.058392</td>\n",
       "    </tr>\n",
       "    <tr>\n",
       "      <th>Months</th>\n",
       "      <td>-0.021554</td>\n",
       "      <td>0.018919</td>\n",
       "      <td>-0.051131</td>\n",
       "      <td>-0.299963</td>\n",
       "      <td>-0.047727</td>\n",
       "      <td>-0.133189</td>\n",
       "      <td>-0.026594</td>\n",
       "      <td>0.112858</td>\n",
       "      <td>0.115371</td>\n",
       "      <td>0.034233</td>\n",
       "      <td>...</td>\n",
       "      <td>-0.098244</td>\n",
       "      <td>-0.005751</td>\n",
       "      <td>-0.062384</td>\n",
       "      <td>-0.051083</td>\n",
       "      <td>0.367731</td>\n",
       "      <td>-0.036432</td>\n",
       "      <td>-0.017702</td>\n",
       "      <td>0.012610</td>\n",
       "      <td>-0.058392</td>\n",
       "      <td>1.000000</td>\n",
       "    </tr>\n",
       "  </tbody>\n",
       "</table>\n",
       "<p>23 rows × 23 columns</p>\n",
       "</div>"
      ],
      "text/plain": [
       "                      SampleDepth    HUC12_  Parameter_CHLA  Parameter_DO  \\\n",
       "SampleDepth              1.000000  0.298364       -0.051237     -0.246909   \n",
       "HUC12_                   0.298364  1.000000        0.056390     -0.234133   \n",
       "Parameter_CHLA          -0.051237  0.056390        1.000000      0.060347   \n",
       "Parameter_DO            -0.246909 -0.234133        0.060347      1.000000   \n",
       "Parameter_NH4F           0.010671 -0.147033        0.086285      0.016819   \n",
       "Parameter_NO3F          -0.139905 -0.386257        0.105260      0.296525   \n",
       "Parameter_PH             0.047496 -0.018793        0.018954      0.349397   \n",
       "Parameter_PO4F          -0.031205 -0.141175        0.123710     -0.025177   \n",
       "Parameter_SALINITY       0.412746  0.414872       -0.093204     -0.249128   \n",
       "Parameter_SECCHI        -0.289386  0.077783        0.155105      0.014052   \n",
       "Parameter_TALK          -0.159774 -0.304232        0.179365      0.159605   \n",
       "Parameter_TDS           -0.143868 -0.528854       -0.050723      0.084387   \n",
       "Parameter_TKNW          -0.074550 -0.007728        0.093640      0.046428   \n",
       "Parameter_TN            -0.095798 -0.286870        0.296343      0.242648   \n",
       "Parameter_TP             0.013467 -0.107803        0.312077      0.076246   \n",
       "Parameter_TSS            0.020906 -0.084925        0.192736      0.089224   \n",
       "Parameter_TURB_NTU       0.009164 -0.059218        0.137265      0.095288   \n",
       "Parameter_WTEMP         -0.002560  0.150584        0.052292     -0.561552   \n",
       "tide_Flood Tide         -0.126211 -0.318314       -0.035137      0.071635   \n",
       "tide_High Slack Tide    -0.011693  0.040491        0.041375      0.011070   \n",
       "tide_Low Slack Tide     -0.035440  0.040664        0.010280      0.031532   \n",
       "Years                    0.088154 -0.149033        0.018863      0.182693   \n",
       "Months                  -0.021554  0.018919       -0.051131     -0.299963   \n",
       "\n",
       "                      Parameter_NH4F  Parameter_NO3F  Parameter_PH  \\\n",
       "SampleDepth                 0.010671       -0.139905      0.047496   \n",
       "HUC12_                     -0.147033       -0.386257     -0.018793   \n",
       "Parameter_CHLA              0.086285        0.105260      0.018954   \n",
       "Parameter_DO                0.016819        0.296525      0.349397   \n",
       "Parameter_NH4F              1.000000        0.388296     -0.013437   \n",
       "Parameter_NO3F              0.388296        1.000000     -0.002388   \n",
       "Parameter_PH               -0.013437       -0.002388      1.000000   \n",
       "Parameter_PO4F              0.370214        0.451571     -0.011115   \n",
       "Parameter_SALINITY         -0.159301       -0.424761      0.103022   \n",
       "Parameter_SECCHI            0.099321        0.033627     -0.105580   \n",
       "Parameter_TALK              0.342386        0.614674      0.079137   \n",
       "Parameter_TDS               0.201820        0.204703     -0.034944   \n",
       "Parameter_TKNW             -0.009788        0.037356     -0.042348   \n",
       "Parameter_TN                0.487142        0.891921      0.009027   \n",
       "Parameter_TP                0.354084        0.508278     -0.017780   \n",
       "Parameter_TSS               0.211213        0.317726     -0.011547   \n",
       "Parameter_TURB_NTU          0.223065        0.306944      0.024804   \n",
       "Parameter_WTEMP            -0.070302       -0.257763      0.184529   \n",
       "tide_Flood Tide             0.036930        0.182901     -0.013234   \n",
       "tide_High Slack Tide       -0.012965       -0.074527      0.022240   \n",
       "tide_Low Slack Tide        -0.011521       -0.046551      0.036448   \n",
       "Years                      -0.008756        0.156672     -0.001175   \n",
       "Months                     -0.047727       -0.133189     -0.026594   \n",
       "\n",
       "                      Parameter_PO4F  Parameter_SALINITY  Parameter_SECCHI  \\\n",
       "SampleDepth                -0.031205            0.412746         -0.289386   \n",
       "HUC12_                     -0.141175            0.414872          0.077783   \n",
       "Parameter_CHLA              0.123710           -0.093204          0.155105   \n",
       "Parameter_DO               -0.025177           -0.249128          0.014052   \n",
       "Parameter_NH4F              0.370214           -0.159301          0.099321   \n",
       "Parameter_NO3F              0.451571           -0.424761          0.033627   \n",
       "Parameter_PH               -0.011115            0.103022         -0.105580   \n",
       "Parameter_PO4F              1.000000           -0.194181          0.088213   \n",
       "Parameter_SALINITY         -0.194181            1.000000         -0.054703   \n",
       "Parameter_SECCHI            0.088213           -0.054703          1.000000   \n",
       "Parameter_TALK              0.477934           -0.435761          0.173335   \n",
       "Parameter_TDS               0.069162           -0.144013         -0.051571   \n",
       "Parameter_TKNW              0.031064           -0.071763         -0.022927   \n",
       "Parameter_TN                0.577401           -0.352559          0.134846   \n",
       "Parameter_TP                0.675833           -0.214836          0.097663   \n",
       "Parameter_TSS               0.287533           -0.169872          0.015345   \n",
       "Parameter_TURB_NTU          0.261265           -0.214561          0.012274   \n",
       "Parameter_WTEMP             0.057468            0.097536         -0.013392   \n",
       "tide_Flood Tide             0.076268           -0.108372         -0.053579   \n",
       "tide_High Slack Tide       -0.077300           -0.045898          0.036573   \n",
       "tide_Low Slack Tide        -0.056797           -0.044655          0.077743   \n",
       "Years                       0.028388           -0.041905         -0.058363   \n",
       "Months                      0.112858            0.115371          0.034233   \n",
       "\n",
       "                      ...  Parameter_TN  Parameter_TP  Parameter_TSS  \\\n",
       "SampleDepth           ...     -0.095798      0.013467       0.020906   \n",
       "HUC12_                ...     -0.286870     -0.107803      -0.084925   \n",
       "Parameter_CHLA        ...      0.296343      0.312077       0.192736   \n",
       "Parameter_DO          ...      0.242648      0.076246       0.089224   \n",
       "Parameter_NH4F        ...      0.487142      0.354084       0.211213   \n",
       "Parameter_NO3F        ...      0.891921      0.508278       0.317726   \n",
       "Parameter_PH          ...      0.009027     -0.017780      -0.011547   \n",
       "Parameter_PO4F        ...      0.577401      0.675833       0.287533   \n",
       "Parameter_SALINITY    ...     -0.352559     -0.214836      -0.169872   \n",
       "Parameter_SECCHI      ...      0.134846      0.097663       0.015345   \n",
       "Parameter_TALK        ...      0.631867      0.438933       0.264549   \n",
       "Parameter_TDS         ...      0.169236      0.045796       0.008989   \n",
       "Parameter_TKNW        ...      0.105286      0.172143       0.029800   \n",
       "Parameter_TN          ...      1.000000      0.729191       0.447844   \n",
       "Parameter_TP          ...      0.729191      1.000000       0.747102   \n",
       "Parameter_TSS         ...      0.447844      0.747102       1.000000   \n",
       "Parameter_TURB_NTU    ...      0.402430      0.581035       0.716192   \n",
       "Parameter_WTEMP       ...     -0.182252     -0.025566      -0.071950   \n",
       "tide_Flood Tide       ...      0.143757      0.053750       0.024670   \n",
       "tide_High Slack Tide  ...     -0.084131     -0.073725      -0.036918   \n",
       "tide_Low Slack Tide   ...     -0.054545     -0.050038      -0.021774   \n",
       "Years                 ...      0.129634      0.088251       0.065879   \n",
       "Months                ...     -0.098244     -0.005751      -0.062384   \n",
       "\n",
       "                      Parameter_TURB_NTU  Parameter_WTEMP  tide_Flood Tide  \\\n",
       "SampleDepth                     0.009164        -0.002560        -0.126211   \n",
       "HUC12_                         -0.059218         0.150584        -0.318314   \n",
       "Parameter_CHLA                  0.137265         0.052292        -0.035137   \n",
       "Parameter_DO                    0.095288        -0.561552         0.071635   \n",
       "Parameter_NH4F                  0.223065        -0.070302         0.036930   \n",
       "Parameter_NO3F                  0.306944        -0.257763         0.182901   \n",
       "Parameter_PH                    0.024804         0.184529        -0.013234   \n",
       "Parameter_PO4F                  0.261265         0.057468         0.076268   \n",
       "Parameter_SALINITY             -0.214561         0.097536        -0.108372   \n",
       "Parameter_SECCHI                0.012274        -0.013392        -0.053579   \n",
       "Parameter_TALK                  0.350185        -0.083110         0.144254   \n",
       "Parameter_TDS                   0.004707        -0.068883         0.164540   \n",
       "Parameter_TKNW                  0.018116         0.000740         0.025736   \n",
       "Parameter_TN                    0.402430        -0.182252         0.143757   \n",
       "Parameter_TP                    0.581035        -0.025566         0.053750   \n",
       "Parameter_TSS                   0.716192        -0.071950         0.024670   \n",
       "Parameter_TURB_NTU              1.000000        -0.079372         0.010321   \n",
       "Parameter_WTEMP                -0.079372         1.000000        -0.073464   \n",
       "tide_Flood Tide                 0.010321        -0.073464         1.000000   \n",
       "tide_High Slack Tide           -0.000405         0.027839        -0.227198   \n",
       "tide_Low Slack Tide            -0.001402         0.004381        -0.212587   \n",
       "Years                           0.049843        -0.160994         0.019846   \n",
       "Months                         -0.051083         0.367731        -0.036432   \n",
       "\n",
       "                      tide_High Slack Tide  tide_Low Slack Tide     Years  \\\n",
       "SampleDepth                      -0.011693            -0.035440  0.088154   \n",
       "HUC12_                            0.040491             0.040664 -0.149033   \n",
       "Parameter_CHLA                    0.041375             0.010280  0.018863   \n",
       "Parameter_DO                      0.011070             0.031532  0.182693   \n",
       "Parameter_NH4F                   -0.012965            -0.011521 -0.008756   \n",
       "Parameter_NO3F                   -0.074527            -0.046551  0.156672   \n",
       "Parameter_PH                      0.022240             0.036448 -0.001175   \n",
       "Parameter_PO4F                   -0.077300            -0.056797  0.028388   \n",
       "Parameter_SALINITY               -0.045898            -0.044655 -0.041905   \n",
       "Parameter_SECCHI                  0.036573             0.077743 -0.058363   \n",
       "Parameter_TALK                   -0.027602             0.013230  0.103570   \n",
       "Parameter_TDS                    -0.037437            -0.035029 -0.021346   \n",
       "Parameter_TKNW                   -0.008910            -0.003762  0.032157   \n",
       "Parameter_TN                     -0.084131            -0.054545  0.129634   \n",
       "Parameter_TP                     -0.073725            -0.050038  0.088251   \n",
       "Parameter_TSS                    -0.036918            -0.021774  0.065879   \n",
       "Parameter_TURB_NTU               -0.000405            -0.001402  0.049843   \n",
       "Parameter_WTEMP                   0.027839             0.004381 -0.160994   \n",
       "tide_Flood Tide                  -0.227198            -0.212587  0.019846   \n",
       "tide_High Slack Tide              1.000000            -0.061134 -0.036485   \n",
       "tide_Low Slack Tide              -0.061134             1.000000 -0.079402   \n",
       "Years                            -0.036485            -0.079402  1.000000   \n",
       "Months                           -0.017702             0.012610 -0.058392   \n",
       "\n",
       "                        Months  \n",
       "SampleDepth          -0.021554  \n",
       "HUC12_                0.018919  \n",
       "Parameter_CHLA       -0.051131  \n",
       "Parameter_DO         -0.299963  \n",
       "Parameter_NH4F       -0.047727  \n",
       "Parameter_NO3F       -0.133189  \n",
       "Parameter_PH         -0.026594  \n",
       "Parameter_PO4F        0.112858  \n",
       "Parameter_SALINITY    0.115371  \n",
       "Parameter_SECCHI      0.034233  \n",
       "Parameter_TALK        0.040325  \n",
       "Parameter_TDS         0.012440  \n",
       "Parameter_TKNW       -0.006070  \n",
       "Parameter_TN         -0.098244  \n",
       "Parameter_TP         -0.005751  \n",
       "Parameter_TSS        -0.062384  \n",
       "Parameter_TURB_NTU   -0.051083  \n",
       "Parameter_WTEMP       0.367731  \n",
       "tide_Flood Tide      -0.036432  \n",
       "tide_High Slack Tide -0.017702  \n",
       "tide_Low Slack Tide   0.012610  \n",
       "Years                -0.058392  \n",
       "Months                1.000000  \n",
       "\n",
       "[23 rows x 23 columns]"
      ]
     },
     "execution_count": 21,
     "metadata": {},
     "output_type": "execute_result"
    }
   ],
   "source": [
    "# correlation matrix\n",
    "water_corr.corr()"
   ]
  },
  {
   "cell_type": "code",
   "execution_count": 22,
   "metadata": {},
   "outputs": [
    {
     "data": {
      "image/png": "[encoded data removed]",
      "text/plain": [
       "<Figure size 432x864 with 2 Axes>"
      ]
     },
     "metadata": {
      "needs_background": "light"
     },
     "output_type": "display_data"
    }
   ],
   "source": [
    "# heatmap to display correlation matrix\n",
    "plt.figure(figsize=(6, 12))\n",
    "sns.heatmap(water_corr.corr()[['Parameter_TP']].sort_values('Parameter_TP', ascending=False),\n",
    "            cmap='coolwarm',\n",
    "            vmin=-1,\n",
    "            vmax=1,\n",
    "            annot=True);\n",
    "plt.show();"
   ]
  },
  {
   "cell_type": "markdown",
   "metadata": {},
   "source": [
    "### Random Forest Classifier\n",
    "- categorical total phosphorus as y variable\n",
    "\n",
    "Categories:\n",
    "- 0.01 - 0.03 mg/L - uncontaminated freshwater\n",
    "- 0.025 - 0.1 mg/L - level at which plant growth is stimulated\n",
    "- \\> 0.1 mg/L - accelerated growth and consequent problems\n",
    "\n",
    "\n",
    "[source](https://water-research.net/index.php/phosphates)"
   ]
  },
  {
   "cell_type": "code",
   "execution_count": 23,
   "metadata": {},
   "outputs": [],
   "source": [
    "# function to create categorical total phosphorus\n",
    "\n",
    "def categorical_TP(column):\n",
    "    if column < 0.03:\n",
    "        # value for uncontaminated water = 1\n",
    "        value = 1\n",
    "    elif column <= 0.1:\n",
    "        # value for stimulated plant growth = 2\n",
    "        value = 2\n",
    "    elif column > 0.1:\n",
    "        # value for problematic total phosphorus level = 3\n",
    "        value = 3\n",
    "    return value"
   ]
  },
  {
   "cell_type": "code",
   "execution_count": 24,
   "metadata": {},
   "outputs": [],
   "source": [
    "# create categorical TP variable\n",
    "water['Categorical_TP'] = water['Parameter_TP'].map(categorical_TP)"
   ]
  },
  {
   "cell_type": "code",
   "execution_count": 25,
   "metadata": {},
   "outputs": [
    {
     "data": {
      "text/plain": [
       "0"
      ]
     },
     "execution_count": 25,
     "metadata": {},
     "output_type": "execute_result"
    }
   ],
   "source": [
    "water['Categorical_TP'].isna().sum()"
   ]
  },
  {
   "cell_type": "code",
   "execution_count": 26,
   "metadata": {},
   "outputs": [],
   "source": [
    "# columns to drop from features\n",
    "col_to_drop = ['Date_Time', 'Agency', 'Cruise', 'Database', 'HUC12', 'Latitude', 'Layer', 'Longitude', 'Method', 'Program', 'Project', \n",
    "               'SampleReplicateType', 'SampleType', 'Source', 'Station', 'TierLevel', 'Unit', 'Point', 'FIPS_', 'COUNTY_', 'STATE_', 'Parameter_TP',\n",
    "               'Categorical_TP', 'HUCNAME_']"
   ]
  },
  {
   "cell_type": "code",
   "execution_count": 27,
   "metadata": {},
   "outputs": [],
   "source": [
    "X = water.drop(columns=col_to_drop)\n",
    "\n",
    "y = water['Categorical_TP']"
   ]
  },
  {
   "cell_type": "markdown",
   "metadata": {},
   "source": [
    "**Baseline Accuracy**"
   ]
  },
  {
   "cell_type": "code",
   "execution_count": 28,
   "metadata": {},
   "outputs": [
    {
     "data": {
      "text/plain": [
       "1    0.759320\n",
       "2    0.209444\n",
       "3    0.031235\n",
       "Name: Categorical_TP, dtype: float64"
      ]
     },
     "execution_count": 28,
     "metadata": {},
     "output_type": "execute_result"
    }
   ],
   "source": [
    "y.value_counts(normalize=True)"
   ]
  },
  {
   "cell_type": "markdown",
   "metadata": {},
   "source": [
    "**Model**"
   ]
  },
  {
   "cell_type": "code",
   "execution_count": 29,
   "metadata": {},
   "outputs": [],
   "source": [
    "X_train, X_test, y_train, y_test = train_test_split(X,\n",
    "                                                    y,\n",
    "                                                    test_size = 0.33,\n",
    "                                                    random_state = 42,\n",
    "                                                    stratify=y)"
   ]
  },
  {
   "cell_type": "code",
   "execution_count": 30,
   "metadata": {},
   "outputs": [],
   "source": [
    "rf = RandomForestClassifier()"
   ]
  },
  {
   "cell_type": "code",
   "execution_count": 31,
   "metadata": {},
   "outputs": [],
   "source": [
    "# parameters for grid search\n",
    "params = {\n",
    "    'n_estimators'      : [100, 200, 300],\n",
    "    'min_samples_split' : [10, 20, 30],\n",
    "    'max_depth'         : [None, 5, 10]\n",
    "}"
   ]
  },
  {
   "cell_type": "code",
   "execution_count": 32,
   "metadata": {},
   "outputs": [],
   "source": [
    "# Set up grid search\n",
    "gs = GridSearchCV(rf, \n",
    "                  param_grid=params, \n",
    "                  return_train_score=True, \n",
    "                  cv = 5)"
   ]
  },
  {
   "cell_type": "code",
   "execution_count": 33,
   "metadata": {},
   "outputs": [
    {
     "name": "stdout",
     "output_type": "stream",
     "text": [
      "361.7950358390808\n"
     ]
    }
   ],
   "source": [
    "# Run grid search on training data with a time check. WARNING: this search takes ~ 8 min. with n_jobs=6\n",
    "import time\n",
    "t0 = time.time()\n",
    "gs.fit(X_train, y_train)\n",
    "print(time.time() - t0)"
   ]
  },
  {
   "cell_type": "markdown",
   "metadata": {},
   "source": [
    "# Evaluation"
   ]
  },
  {
   "cell_type": "code",
   "execution_count": 50,
   "metadata": {},
   "outputs": [],
   "source": [
    "# Score on training set.\n",
    "train_accuracy = gs.score(X_train, y_train)"
   ]
  },
  {
   "cell_type": "code",
   "execution_count": 51,
   "metadata": {},
   "outputs": [],
   "source": [
    "# Score on testing set.\n",
    "test_accuracy = gs.score(X_test, y_test)"
   ]
  },
  {
   "cell_type": "code",
   "execution_count": 52,
   "metadata": {},
   "outputs": [
    {
     "data": {
      "text/plain": [
       "{'max_depth': None, 'min_samples_split': 10, 'n_estimators': 100}"
      ]
     },
     "execution_count": 52,
     "metadata": {},
     "output_type": "execute_result"
    }
   ],
   "source": [
    "# List best hyperparameters found in Grid Search\n",
    "gs.best_params_"
   ]
  },
  {
   "cell_type": "code",
   "execution_count": 53,
   "metadata": {},
   "outputs": [
    {
     "data": {
      "text/plain": [
       "0.9688190016279103"
      ]
     },
     "execution_count": 53,
     "metadata": {},
     "output_type": "execute_result"
    }
   ],
   "source": [
    "# 5-fold cross validation score.\n",
    "gs.best_score_"
   ]
  },
  {
   "cell_type": "code",
   "execution_count": 54,
   "metadata": {},
   "outputs": [],
   "source": [
    "# Utilize model to get predictions on testing set.\n",
    "preds = gs.predict(X_test)"
   ]
  },
  {
   "cell_type": "code",
   "execution_count": 55,
   "metadata": {},
   "outputs": [
    {
     "data": {
      "text/plain": [
       "array([0.01231978, 0.03150362, 0.01786509, 0.02722533, 0.07935156,\n",
       "       0.01510751, 0.07730186, 0.05941334, 0.00688961, 0.19844834,\n",
       "       0.00927197, 0.00816391, 0.03124696, 0.00235435, 0.00707501,\n",
       "       0.19539278, 0.11777799, 0.06763014, 0.0176866 , 0.00108419,\n",
       "       0.00032581, 0.00023168, 0.00934726, 0.00698531])"
      ]
     },
     "execution_count": 55,
     "metadata": {},
     "output_type": "execute_result"
    }
   ],
   "source": [
    "# List scores from best features in model\n",
    "gs.best_estimator_.feature_importances_"
   ]
  },
  {
   "cell_type": "code",
   "execution_count": 56,
   "metadata": {},
   "outputs": [
    {
     "data": {
      "text/html": [
       "<div>\n",
       "<style scoped>\n",
       "    .dataframe tbody tr th:only-of-type {\n",
       "        vertical-align: middle;\n",
       "    }\n",
       "\n",
       "    .dataframe tbody tr th {\n",
       "        vertical-align: top;\n",
       "    }\n",
       "\n",
       "    .dataframe thead th {\n",
       "        text-align: right;\n",
       "    }\n",
       "</style>\n",
       "<table border=\"1\" class=\"dataframe\">\n",
       "  <thead>\n",
       "    <tr style=\"text-align: right;\">\n",
       "      <th></th>\n",
       "      <th>Importance</th>\n",
       "    </tr>\n",
       "  </thead>\n",
       "  <tbody>\n",
       "    <tr>\n",
       "      <th>Parameter_PO4F</th>\n",
       "      <td>0.198448</td>\n",
       "    </tr>\n",
       "    <tr>\n",
       "      <th>Parameter_TN</th>\n",
       "      <td>0.195393</td>\n",
       "    </tr>\n",
       "    <tr>\n",
       "      <th>Parameter_TSS</th>\n",
       "      <td>0.117778</td>\n",
       "    </tr>\n",
       "    <tr>\n",
       "      <th>Parameter_CHLA</th>\n",
       "      <td>0.079352</td>\n",
       "    </tr>\n",
       "    <tr>\n",
       "      <th>Parameter_NH4F</th>\n",
       "      <td>0.077302</td>\n",
       "    </tr>\n",
       "    <tr>\n",
       "      <th>Parameter_TURB_NTU</th>\n",
       "      <td>0.067630</td>\n",
       "    </tr>\n",
       "    <tr>\n",
       "      <th>Parameter_NO3F</th>\n",
       "      <td>0.059413</td>\n",
       "    </tr>\n",
       "    <tr>\n",
       "      <th>SampleDepth</th>\n",
       "      <td>0.031504</td>\n",
       "    </tr>\n",
       "    <tr>\n",
       "      <th>Parameter_TALK</th>\n",
       "      <td>0.031247</td>\n",
       "    </tr>\n",
       "    <tr>\n",
       "      <th>TotalDepth</th>\n",
       "      <td>0.027225</td>\n",
       "    </tr>\n",
       "    <tr>\n",
       "      <th>HUC12_</th>\n",
       "      <td>0.017865</td>\n",
       "    </tr>\n",
       "    <tr>\n",
       "      <th>Parameter_WTEMP</th>\n",
       "      <td>0.017687</td>\n",
       "    </tr>\n",
       "    <tr>\n",
       "      <th>Parameter_DO</th>\n",
       "      <td>0.015108</td>\n",
       "    </tr>\n",
       "    <tr>\n",
       "      <th>SampleId</th>\n",
       "      <td>0.012320</td>\n",
       "    </tr>\n",
       "    <tr>\n",
       "      <th>Years</th>\n",
       "      <td>0.009347</td>\n",
       "    </tr>\n",
       "    <tr>\n",
       "      <th>Parameter_SALINITY</th>\n",
       "      <td>0.009272</td>\n",
       "    </tr>\n",
       "    <tr>\n",
       "      <th>Parameter_SECCHI</th>\n",
       "      <td>0.008164</td>\n",
       "    </tr>\n",
       "    <tr>\n",
       "      <th>Parameter_TKNW</th>\n",
       "      <td>0.007075</td>\n",
       "    </tr>\n",
       "    <tr>\n",
       "      <th>Months</th>\n",
       "      <td>0.006985</td>\n",
       "    </tr>\n",
       "    <tr>\n",
       "      <th>Parameter_PH</th>\n",
       "      <td>0.006890</td>\n",
       "    </tr>\n",
       "    <tr>\n",
       "      <th>Parameter_TDS</th>\n",
       "      <td>0.002354</td>\n",
       "    </tr>\n",
       "    <tr>\n",
       "      <th>tide_Flood Tide</th>\n",
       "      <td>0.001084</td>\n",
       "    </tr>\n",
       "    <tr>\n",
       "      <th>tide_High Slack Tide</th>\n",
       "      <td>0.000326</td>\n",
       "    </tr>\n",
       "    <tr>\n",
       "      <th>tide_Low Slack Tide</th>\n",
       "      <td>0.000232</td>\n",
       "    </tr>\n",
       "  </tbody>\n",
       "</table>\n",
       "</div>"
      ],
      "text/plain": [
       "                      Importance\n",
       "Parameter_PO4F          0.198448\n",
       "Parameter_TN            0.195393\n",
       "Parameter_TSS           0.117778\n",
       "Parameter_CHLA          0.079352\n",
       "Parameter_NH4F          0.077302\n",
       "Parameter_TURB_NTU      0.067630\n",
       "Parameter_NO3F          0.059413\n",
       "SampleDepth             0.031504\n",
       "Parameter_TALK          0.031247\n",
       "TotalDepth              0.027225\n",
       "HUC12_                  0.017865\n",
       "Parameter_WTEMP         0.017687\n",
       "Parameter_DO            0.015108\n",
       "SampleId                0.012320\n",
       "Years                   0.009347\n",
       "Parameter_SALINITY      0.009272\n",
       "Parameter_SECCHI        0.008164\n",
       "Parameter_TKNW          0.007075\n",
       "Months                  0.006985\n",
       "Parameter_PH            0.006890\n",
       "Parameter_TDS           0.002354\n",
       "tide_Flood Tide         0.001084\n",
       "tide_High Slack Tide    0.000326\n",
       "tide_Low Slack Tide     0.000232"
      ]
     },
     "execution_count": 56,
     "metadata": {},
     "output_type": "execute_result"
    }
   ],
   "source": [
    "# Grab feature names, their importance, and sort them into a dataframe.\n",
    "features_df = pd.DataFrame(gs.best_estimator_.feature_importances_, X_train.columns, columns=['Importance'])\n",
    "features_df.sort_values(by='Importance', ascending=False).head(25)"
   ]
  },
  {
   "cell_type": "code",
   "execution_count": 57,
   "metadata": {},
   "outputs": [
    {
     "data": {
      "image/png": "[encoded data removed]",
      "text/plain": [
       "<Figure size 2160x720 with 1 Axes>"
      ]
     },
     "metadata": {
      "needs_background": "light"
     },
     "output_type": "display_data"
    }
   ],
   "source": [
    "# plot the top features minus the top 3 ('leadership', 'leader', & 'leaders')\n",
    "plt.figure(figsize=(30,10))\n",
    "temp = features_df.sort_values('Importance', ascending=False).head(20)\n",
    "plt.bar(temp.index[3:], temp['Importance'][3:])\n",
    "plt.title('Top 20 Features', fontsize=30)\n",
    "plt.xlabel('Feature', fontsize=20)\n",
    "plt.ylabel('Level of Information Provided to Model', fontsize=20);"
   ]
  },
  {
   "cell_type": "code",
   "execution_count": 58,
   "metadata": {},
   "outputs": [
    {
     "name": "stdout",
     "output_type": "stream",
     "text": [
      "Traning accuracy: 0.99\n",
      "Testing accuarcy: 0.97\n",
      "Cross-validated accuracy: 0.97\n"
     ]
    }
   ],
   "source": [
    "# print accuracy scores\n",
    "print(f'Traning accuracy: {round(train_accuracy, 2)}')\n",
    "print(f'Testing accuarcy: {round(test_accuracy, 2)}')\n",
    "print('Cross-validated accuracy:', round(gs.best_score_, 2))"
   ]
  },
  {
   "cell_type": "markdown",
   "metadata": {},
   "source": [
    "The model is slightly overfit to the training data, however, the cross-validated accuracy score supports the 97% testing accuracy. The model seems to generalize well in predicting the total_phosphorus categories of healthy level, level of promoting plant growth, and alarmingly high level that may lead to rapid plant growth such as algea bloom and eutrophication."
   ]
  },
  {
   "cell_type": "code",
   "execution_count": 66,
   "metadata": {},
   "outputs": [],
   "source": [
    "# generate confusion matrix\n",
    "confusion_matrix = confusion_matrix(y_test,\n",
    "                 preds)\n",
    "\n",
    "# source for code from Matt Brems, lesson on classification metrics\n",
    "# https://towardsdatascience.com/confusion-matrix-for-your-multi-class-machine-learning-model-ff9aa3bf7826"
   ]
  },
  {
   "cell_type": "markdown",
   "metadata": {},
   "source": [
    "**Problematic Phosphorus Level**"
   ]
  },
  {
   "cell_type": "code",
   "execution_count": 67,
   "metadata": {},
   "outputs": [
    {
     "data": {
      "text/plain": [
       "array([[7369,   92,    0],\n",
       "       [  89, 1946,   23],\n",
       "       [   0,   92,  215]])"
      ]
     },
     "execution_count": 67,
     "metadata": {},
     "output_type": "execute_result"
    }
   ],
   "source": [
    "confusion_matrix"
   ]
  },
  {
   "cell_type": "code",
   "execution_count": 69,
   "metadata": {},
   "outputs": [
    {
     "name": "stdout",
     "output_type": "stream",
     "text": [
      "True positive value: 215\n"
     ]
    }
   ],
   "source": [
    "# true positive for the problematic phosphorus level\n",
    "TP = confusion_matrix[2][2]\n",
    "print(f'True positive value: {TP}')"
   ]
  },
  {
   "cell_type": "code",
   "execution_count": 72,
   "metadata": {},
   "outputs": [
    {
     "name": "stdout",
     "output_type": "stream",
     "text": [
      "True negative value: 9496\n"
     ]
    }
   ],
   "source": [
    "# true negative for the problematic phosphorus level\n",
    "TN = confusion_matrix[0][0] + confusion_matrix[0][1] + confusion_matrix[1][0] + confusion_matrix[1][1]\n",
    "print(f'True negative value: {TN}')"
   ]
  },
  {
   "cell_type": "code",
   "execution_count": 70,
   "metadata": {},
   "outputs": [
    {
     "name": "stdout",
     "output_type": "stream",
     "text": [
      "False positive value: 23\n"
     ]
    }
   ],
   "source": [
    "# false positive for the problematic phosphorus level\n",
    "FP = confusion_matrix[0][2] + confusion_matrix[1][2]\n",
    "print(f'False positive value: {FP}')"
   ]
  },
  {
   "cell_type": "code",
   "execution_count": 71,
   "metadata": {},
   "outputs": [
    {
     "name": "stdout",
     "output_type": "stream",
     "text": [
      "False negative value: 92\n"
     ]
    }
   ],
   "source": [
    "# false negative for the problematic phosphorus level\n",
    "FN = confusion_matrix[2][0] + confusion_matrix[2][1]\n",
    "print(f'False negative value: {FN}')"
   ]
  },
  {
   "cell_type": "code",
   "execution_count": 73,
   "metadata": {},
   "outputs": [
    {
     "name": "stdout",
     "output_type": "stream",
     "text": [
      "Sensitivity of the model when predicting problematic phosphorus levels: 0.7003257328990228\n"
     ]
    }
   ],
   "source": [
    "# calculate sensitivity = the rate of true positives out of all positive predictions \n",
    "# ie. the rate of all those observations that the model predicted as problematic level of total phosphorus while being true\n",
    "# out of all those cases when the level of total phosphorus was problematic\n",
    "print(f'Sensitivity of the model when predicting problematic phosphorus levels: {TP/ (TP + FN)}')"
   ]
  },
  {
   "cell_type": "code",
   "execution_count": null,
   "metadata": {},
   "outputs": [],
   "source": []
  }
 ],
 "metadata": {
  "kernelspec": {
   "display_name": "Python 3",
   "language": "python",
   "name": "python3"
  },
  "language_info": {
   "codemirror_mode": {
    "name": "ipython",
    "version": 3
   },
   "file_extension": ".py",
   "mimetype": "text/x-python",
   "name": "python",
   "nbconvert_exporter": "python",
   "pygments_lexer": "ipython3",
   "version": "3.7.6"
  }
 },
 "nbformat": 4,
 "nbformat_minor": 4
}
